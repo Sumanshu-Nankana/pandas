{
 "cells": [
  {
   "cell_type": "markdown",
   "metadata": {},
   "source": [
    "<h1>TASK-1</h1>"
   ]
  },
  {
   "cell_type": "raw",
   "metadata": {},
   "source": [
    "Create a series named heights_A with values 176.2, 158.4, 167.6, 156.2, and 161.4. These values represent heights of 5 students of class A.\n",
    "\n",
    "    Label each student as s1, s2, s3, s4, and s5.\n",
    "\n",
    "    Create another series named weights_A with values 85.1, 90.2, 76.8, 80.4, and 78.9. These values represent weights of 5 students of class A.\n",
    "\n",
    "    Label each student as s1, s2, s3, s4, and s5.\n",
    "\n",
    "    Create a dataframe named df_A, which holds the height and weight of five students s1, s2, s3, s4 and s5.\n",
    "\n",
    "    Label the columns as Student_height and Student_weight, respectively.\n",
    "\n",
    "    Add a new column Gender to the dataframe df_A with values ['M', 'F', 'M', 'M', 'F'].\n",
    "\n",
    "    Create another Series s, from a list [165.4, 82.7, 'F'].\n",
    "\n",
    "    Provide the following values to the argument index: ['Student_height', 'Student_weight', 'Gender']\n",
    "\n",
    "    Set the value of the name argument of series, s, to s6.\n",
    "\n",
    "    Append the series s to the dataframe df_A, and store the captured array in df_AA.\n",
    "\n",
    "    Display the dataframe df_AA."
   ]
  },
  {
   "cell_type": "code",
   "execution_count": 1,
   "metadata": {},
   "outputs": [],
   "source": [
    "import pandas as pd"
   ]
  },
  {
   "cell_type": "code",
   "execution_count": 9,
   "metadata": {},
   "outputs": [],
   "source": [
    "heights_A = pd.Series([176.2, 158.4, 167.6, 156.2,161.4],index=['s1','s2','s3','s4','s5'])\n",
    "weights_A = pd.Series([85.1,90.2,76.8,80.4,78.9],index=['s1','s2','s3','s4','s5'])\n",
    "frame = {\"Student_height\":heights_A,\"Student_weight\":weights_A}\n",
    "df_A = pd.DataFrame(frame)\n",
    "df_A['Gender'] = ['M', 'F', 'M', 'M', 'F']\n",
    "s = pd.Series([165.4, 82.7, 'F'],index=['Student_height', 'Student_weight', 'Gender'],name='s6')"
   ]
  },
  {
   "cell_type": "code",
   "execution_count": 10,
   "metadata": {},
   "outputs": [
    {
     "name": "stdout",
     "output_type": "stream",
     "text": [
      "    Student_height  Student_weight Gender\n",
      "s1           176.2            85.1      M\n",
      "s2           158.4            90.2      F\n",
      "s3           167.6            76.8      M\n",
      "s4           156.2            80.4      M\n",
      "s5           161.4            78.9      F\n"
     ]
    }
   ],
   "source": [
    "print(df_A)"
   ]
  },
  {
   "cell_type": "code",
   "execution_count": 11,
   "metadata": {},
   "outputs": [
    {
     "name": "stdout",
     "output_type": "stream",
     "text": [
      "Student_height    165.4\n",
      "Student_weight     82.7\n",
      "Gender                F\n",
      "Name: s6, dtype: object\n"
     ]
    }
   ],
   "source": [
    "print(s)"
   ]
  },
  {
   "cell_type": "code",
   "execution_count": 12,
   "metadata": {},
   "outputs": [],
   "source": [
    "df_AA = df_A.append(s)"
   ]
  },
  {
   "cell_type": "code",
   "execution_count": 13,
   "metadata": {},
   "outputs": [
    {
     "data": {
      "text/html": [
       "<div>\n",
       "<style scoped>\n",
       "    .dataframe tbody tr th:only-of-type {\n",
       "        vertical-align: middle;\n",
       "    }\n",
       "\n",
       "    .dataframe tbody tr th {\n",
       "        vertical-align: top;\n",
       "    }\n",
       "\n",
       "    .dataframe thead th {\n",
       "        text-align: right;\n",
       "    }\n",
       "</style>\n",
       "<table border=\"1\" class=\"dataframe\">\n",
       "  <thead>\n",
       "    <tr style=\"text-align: right;\">\n",
       "      <th></th>\n",
       "      <th>Student_height</th>\n",
       "      <th>Student_weight</th>\n",
       "      <th>Gender</th>\n",
       "    </tr>\n",
       "  </thead>\n",
       "  <tbody>\n",
       "    <tr>\n",
       "      <th>s1</th>\n",
       "      <td>176.2</td>\n",
       "      <td>85.1</td>\n",
       "      <td>M</td>\n",
       "    </tr>\n",
       "    <tr>\n",
       "      <th>s2</th>\n",
       "      <td>158.4</td>\n",
       "      <td>90.2</td>\n",
       "      <td>F</td>\n",
       "    </tr>\n",
       "    <tr>\n",
       "      <th>s3</th>\n",
       "      <td>167.6</td>\n",
       "      <td>76.8</td>\n",
       "      <td>M</td>\n",
       "    </tr>\n",
       "    <tr>\n",
       "      <th>s4</th>\n",
       "      <td>156.2</td>\n",
       "      <td>80.4</td>\n",
       "      <td>M</td>\n",
       "    </tr>\n",
       "    <tr>\n",
       "      <th>s5</th>\n",
       "      <td>161.4</td>\n",
       "      <td>78.9</td>\n",
       "      <td>F</td>\n",
       "    </tr>\n",
       "    <tr>\n",
       "      <th>s6</th>\n",
       "      <td>165.4</td>\n",
       "      <td>82.7</td>\n",
       "      <td>F</td>\n",
       "    </tr>\n",
       "  </tbody>\n",
       "</table>\n",
       "</div>"
      ],
      "text/plain": [
       "    Student_height  Student_weight Gender\n",
       "s1           176.2            85.1      M\n",
       "s2           158.4            90.2      F\n",
       "s3           167.6            76.8      M\n",
       "s4           156.2            80.4      M\n",
       "s5           161.4            78.9      F\n",
       "s6           165.4            82.7      F"
      ]
     },
     "execution_count": 13,
     "metadata": {},
     "output_type": "execute_result"
    }
   ],
   "source": [
    "df_AA"
   ]
  },
  {
   "cell_type": "markdown",
   "metadata": {},
   "source": [
    "<h1>TASK-2</h1>"
   ]
  },
  {
   "cell_type": "raw",
   "metadata": {},
   "source": [
    "Create another Series named heights_B from a 1-D numpy array of 5 elements derived from the normal distribution of mean 170.0 and standard deviation 25.0.\n",
    "\n",
    "Note: Set random seed to 100 before creating heights_B series. Note: Set random seed to 100 before creating weights_B series.\n",
    "\n",
    "    Create another Series named weights_B from a 1-D numpy array of 5 elements derived from the normal distribution of mean 75.0 and standard deviation 12.0.\n",
    "\n",
    "    Label both Series elements as s1, s2, s3, s4 and s5.\n",
    "\n",
    "    Create a dataframe df_B containing the height and weight of students s1, s2, s3, s4 and s5 belonging to class B.\n",
    "\n",
    "    Label the columns as Student_height and Student_weight respectively.\n",
    "\n",
    "    Change the index of df_B to [ 's7', 's8', 's9', 's10', 's11'].\n",
    "    Create the Gender column in df_B with values ['F', 'M', 'F', 'F', 'M'].\n",
    "    Concatenate two dataframes df_AA and df_B, and assign the result to df. Note: Use the concat method of pandas.\n",
    "    Display the dataframe df.\n"
   ]
  },
  {
   "cell_type": "code",
   "execution_count": 20,
   "metadata": {},
   "outputs": [
    {
     "name": "stdout",
     "output_type": "stream",
     "text": [
      "     Student_height  Student_weight Gender\n",
      "s1       176.200000       85.100000      M\n",
      "s2       158.400000       90.200000      F\n",
      "s3       167.600000       76.800000      M\n",
      "s4       156.200000       80.400000      M\n",
      "s5       161.400000       78.900000      F\n",
      "s6       165.400000       82.700000      F\n",
      "s7       126.255863       54.002814      F\n",
      "s8       178.567010       79.112165      M\n",
      "s9       198.825895       88.836430      F\n",
      "s10      163.689099       71.970768      F\n",
      "s11      194.533020       86.775849      M\n"
     ]
    }
   ],
   "source": [
    "import pandas as pd\n",
    "import numpy as np\n",
    "np.random.seed(100)\n",
    "heights_B=pd.Series(170.0+25.0*np.random.randn(5),index=['s1','s2','s3','s4','s5'])\n",
    "np.random.seed(100)\n",
    "weights_B=pd.Series(75.0+12.0*np.random.randn(5),index=['s1','s2','s3','s4','s5'])\n",
    "frame={\"Student_height\":heights_B,\"Student_weight\":weights_B}\n",
    "df_B=pd.DataFrame(frame)\n",
    "df_B.index = ['s7','s8','s9','s10','s11']\n",
    "df_B['Gender'] = ['F', 'M', 'F', 'F', 'M']\n",
    "df = pd.concat([df_AA,df_B])\n",
    "print(df)"
   ]
  }
 ],
 "metadata": {
  "kernelspec": {
   "display_name": "Python 3",
   "language": "python",
   "name": "python3"
  },
  "language_info": {
   "codemirror_mode": {
    "name": "ipython",
    "version": 3
   },
   "file_extension": ".py",
   "mimetype": "text/x-python",
   "name": "python",
   "nbconvert_exporter": "python",
   "pygments_lexer": "ipython3",
   "version": "3.6.9"
  }
 },
 "nbformat": 4,
 "nbformat_minor": 2
}
