{
 "cells": [
  {
   "cell_type": "markdown",
   "metadata": {},
   "source": [
    "<h1>TASK-1</h1>"
   ]
  },
  {
   "cell_type": "raw",
   "metadata": {},
   "source": [
    "Create a series named heights_A with values 176.2, 158.4, 167.6, 156.2, and 161.4. These values represent the height of 5 students of class A.\n",
    "\n",
    "Label each student as s1, s2, s3, s4, and s5.\n",
    "\n",
    "Determine the shape of heights_A and display it.\n",
    "\n",
    "Execute the scipt ==> python3 app.py | tee output.txt.\n",
    "\n",
    "## tee command reads the standard input and writes it to both the standard output and one or more files ##"
   ]
  },
  {
   "cell_type": "code",
   "execution_count": 2,
   "metadata": {},
   "outputs": [
    {
     "name": "stdout",
     "output_type": "stream",
     "text": [
      "(5,)\n"
     ]
    },
    {
     "data": {
      "text/plain": [
       "s1    176.2\n",
       "s2    158.4\n",
       "s3    167.6\n",
       "s4    156.2\n",
       "s5    161.4\n",
       "dtype: float64"
      ]
     },
     "execution_count": 2,
     "metadata": {},
     "output_type": "execute_result"
    }
   ],
   "source": [
    "import pandas as pd\n",
    "heights_A = pd.Series([176.2,158.4,167.6,156.2,161.4],index=['s1','s2','s3','s4','s5'])\n",
    "print(heights_A.shape)\n",
    "heights_A"
   ]
  },
  {
   "cell_type": "markdown",
   "metadata": {},
   "source": [
    "<h1> TASK-2</h1>"
   ]
  },
  {
   "cell_type": "markdown",
   "metadata": {},
   "source": [
    "Create another series named weights_A with values 85.1, 90.2, 76.8, 80.4, and 78.9. These values represent the weights of 5 students of class A.\n",
    "\n",
    "Label each student as s1, s2, s3, s4, and s5.\n",
    "\n",
    "Determine data type of values in weights_A and display it."
   ]
  },
  {
   "cell_type": "code",
   "execution_count": 4,
   "metadata": {},
   "outputs": [
    {
     "name": "stdout",
     "output_type": "stream",
     "text": [
      "float64\n",
      "s1    85.1\n",
      "s2    90.2\n",
      "s3    76.8\n",
      "s4    80.4\n",
      "s5    78.9\n",
      "dtype: float64\n"
     ]
    }
   ],
   "source": [
    "weights_A = pd.Series([85.1, 90.2, 76.8, 80.4,78.9],index=['s1','s2','s3','s4','s5'])\n",
    "print(weights_A.dtype)\n",
    "print(weights_A)"
   ]
  },
  {
   "cell_type": "markdown",
   "metadata": {},
   "source": [
    "<h1>TASK-3</h1>"
   ]
  },
  {
   "cell_type": "markdown",
   "metadata": {},
   "source": [
    "Create a dataframe named df_A, which contains the height and weight of five students namely s1, s2, s3, s4 and s5.\n",
    "\n",
    "Label the columns as Student_height and Student_weight, respectively.\n",
    "\n",
    "Display the shape of df_A."
   ]
  },
  {
   "cell_type": "code",
   "execution_count": 8,
   "metadata": {},
   "outputs": [
    {
     "name": "stdout",
     "output_type": "stream",
     "text": [
      "(5, 2)\n",
      "    Student_height  Student_weight\n",
      "s1           176.2            85.1\n",
      "s2           158.4            90.2\n",
      "s3           167.6            76.8\n",
      "s4           156.2            80.4\n",
      "s5           161.4            78.9\n"
     ]
    }
   ],
   "source": [
    "frame = {'Student_height':heights_A,'Student_weight':weights_A}\n",
    "df_A = pd.DataFrame(frame)\n",
    "print(df_A.shape)\n",
    "print(df_A)"
   ]
  },
  {
   "cell_type": "markdown",
   "metadata": {},
   "source": [
    "<h1> TASK-4 </h1>"
   ]
  },
  {
   "cell_type": "markdown",
   "metadata": {},
   "source": [
    "Create another series named heights_B from a 1-D numpy array of 5 elements derived from the normal distribution of mean 170.0 and standard deviation 25.0.\n",
    "\n",
    "Note: Set random seed to 100 before creating the heights_B series.\n",
    "\n",
    "Create another series named weights_B from a 1-D numpy array of 5 elements derived from the normal distribution of mean 75.0 and standard deviation 12.0.\n",
    "\n",
    "Note: Set random seed to 100 before creating the weights_B series.\n",
    "\n",
    "Label both series elements as s1, s2, s3, s4 and s5.\n",
    "\n",
    "Print the mean of series heights_B"
   ]
  },
  {
   "cell_type": "code",
   "execution_count": 14,
   "metadata": {},
   "outputs": [
    {
     "name": "stdout",
     "output_type": "stream",
     "text": [
      "172.37417741633146\n"
     ]
    }
   ],
   "source": [
    "import numpy as np\n",
    "import pandas as pd\n",
    "\n",
    "np.random.seed(100)\n",
    "array = 170.0+25*np.random.randn(5)\n",
    "heights_B = pd.Series(array,index=['s1','s2','s3','s4','s5'])\n",
    "# print(heights_B)\n",
    "\n",
    "np.random.seed(100)\n",
    "array1 = 75.0+12.0*np.random.randn(5)\n",
    "weights_B = pd.Series(array1,index=['s1','s2','s3','s4','s5'])\n",
    "# print(weights_B)\n",
    "\n",
    "print(heights_B.mean())"
   ]
  },
  {
   "cell_type": "markdown",
   "metadata": {},
   "source": [
    "<h1>TASK-5</h1>"
   ]
  },
  {
   "cell_type": "raw",
   "metadata": {},
   "source": [
    "Create a dataframe df_B containing the height and weight of students s1, s2, s3, s4 and s5 belonging to class B.\n",
    "\n",
    "Label the columns as Student_height and Student_weight respectively.\n",
    "\n",
    "Display the column names of df_B.\n",
    "\n",
    "Note: Use the heights_B and weights_B series created in the above tasks."
   ]
  },
  {
   "cell_type": "code",
   "execution_count": 22,
   "metadata": {},
   "outputs": [
    {
     "name": "stdout",
     "output_type": "stream",
     "text": [
      "Index(['Student_height', 'Student_weight'], dtype='object')\n"
     ]
    }
   ],
   "source": [
    "frame = {\"Student_height\":heights_B,'Student_weight':weights_B}\n",
    "df_B = pd.DataFrame(frame)\n",
    "print(df_B.columns)\n",
    "# print(df_B)"
   ]
  },
  {
   "cell_type": "markdown",
   "metadata": {},
   "source": [
    "<h1>TASK-6</h1>"
   ]
  },
  {
   "cell_type": "raw",
   "metadata": {},
   "source": [
    "Create a panel p, containing the previously created two dataframes df_A and df_B.\n",
    "\n",
    "Label the first dataframe as ClassA, and second as ClassB.\n",
    "\n",
    "Determine the shape of panel p and display it."
   ]
  },
  {
   "cell_type": "code",
   "execution_count": 25,
   "metadata": {},
   "outputs": [
    {
     "name": "stdout",
     "output_type": "stream",
     "text": [
      "<class 'pandas.core.panel.Panel'>\n",
      "Dimensions: 2 (items) x 5 (major_axis) x 2 (minor_axis)\n",
      "Items axis: ClassA to Class_B\n",
      "Major_axis axis: s1 to s5\n",
      "Minor_axis axis: Student_height to Student_weight\n"
     ]
    },
    {
     "data": {
      "text/plain": [
       "(2, 5, 2)"
      ]
     },
     "execution_count": 25,
     "metadata": {},
     "output_type": "execute_result"
    }
   ],
   "source": [
    "dict_of_df = {'ClassA':df_A,\"Class_B\":df_B}\n",
    "p = pd.Panel(dict_of_df)\n",
    "print(p)\n",
    "p.shape"
   ]
  }
 ],
 "metadata": {
  "kernelspec": {
   "display_name": "Python 3",
   "language": "python",
   "name": "python3"
  },
  "language_info": {
   "codemirror_mode": {
    "name": "ipython",
    "version": 3
   },
   "file_extension": ".py",
   "mimetype": "text/x-python",
   "name": "python",
   "nbconvert_exporter": "python",
   "pygments_lexer": "ipython3",
   "version": "3.6.9"
  }
 },
 "nbformat": 4,
 "nbformat_minor": 2
}
