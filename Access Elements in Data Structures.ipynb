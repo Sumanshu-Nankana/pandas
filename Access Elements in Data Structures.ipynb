{
 "cells": [
  {
   "cell_type": "markdown",
   "metadata": {},
   "source": [
    "<h1>TASK-1</h1>"
   ]
  },
  {
   "cell_type": "raw",
   "metadata": {},
   "source": [
    "Create a series named heights_A with values 176.2, 158.4, 167.6, 156.2, and 161.4. These values represent the heights of 5 students of class A.\n",
    "\n",
    "Label each student as s1, s2, s3, s4, and s5.\n",
    "\n",
    "Print the second element of series heights_A.\n",
    "\n",
    "Note: Use index number or the value corresponding to the second element inside square brackets."
   ]
  },
  {
   "cell_type": "code",
   "execution_count": 3,
   "metadata": {},
   "outputs": [
    {
     "name": "stdout",
     "output_type": "stream",
     "text": [
      "158.4\n",
      "158.4\n"
     ]
    }
   ],
   "source": [
    "import pandas as pd\n",
    "heights_A = pd.Series([176.2, 158.4, 167.6, 156.2,161.4],index=['s1','s2','s3','s4','s5'])\n",
    "print(heights_A[1])\n",
    "print(heights_A['s2'])"
   ]
  },
  {
   "cell_type": "markdown",
   "metadata": {},
   "source": [
    "<h1>TASK-2</h1>"
   ]
  },
  {
   "cell_type": "markdown",
   "metadata": {},
   "source": [
    "Print the middle three elements of Series heights_A.\n",
    "\n",
    "Note: Use slice objects corresponding to index numbers or index values."
   ]
  },
  {
   "cell_type": "code",
   "execution_count": 8,
   "metadata": {},
   "outputs": [
    {
     "name": "stdout",
     "output_type": "stream",
     "text": [
      "s2    158.4\n",
      "s3    167.6\n",
      "s4    156.2\n",
      "dtype: float64\n",
      "\n",
      "s2    158.4\n",
      "s3    167.6\n",
      "s4    156.2\n",
      "dtype: float64\n"
     ]
    }
   ],
   "source": [
    "print(heights_A['s2':'s4'])\n",
    "print()\n",
    "print(heights_A[1:4])"
   ]
  },
  {
   "cell_type": "markdown",
   "metadata": {},
   "source": [
    "<h1>TASK-3</h1>"
   ]
  },
  {
   "cell_type": "markdown",
   "metadata": {},
   "source": [
    "Create another series named weights_A with values 85.1, 90.2, 76.8, 80.4, and 78.9. These values represent the weights of 5 students of class A.\n",
    "\n",
    "Label each student as s1, s2, s3, s4, and s5.\n",
    "\n",
    "Create a dataframe named df_A, which contains the height and weight of five students namely s1, s2, s3, s4 and s5.\n",
    "\n",
    "Label the columns as Student_height and Student_weight, respectively.\n",
    "\n",
    "Select the column df_A referring to student heights, and store it in the variable height. Note: Specify the required column name inside square brackets.\n",
    "\n",
    "Print the type of object of the variable height."
   ]
  },
  {
   "cell_type": "code",
   "execution_count": 12,
   "metadata": {},
   "outputs": [
    {
     "name": "stdout",
     "output_type": "stream",
     "text": [
      "    Student_height  Student_weight\n",
      "s1           176.2            85.1\n",
      "s2           158.4            90.2\n",
      "s3           167.6            76.8\n",
      "s4           156.2            80.4\n",
      "s5           161.4            78.9\n",
      "\n",
      "<class 'pandas.core.series.Series'>\n"
     ]
    }
   ],
   "source": [
    "weights_A = pd.Series([85.1, 90.2, 76.8, 80.4,78.9],index=['s1','s2','s3','s4','s5'])\n",
    "frame = {\"Student_height\":heights_A,\"Student_weight\":weights_A}\n",
    "df_A = pd.DataFrame(frame)\n",
    "print(df_A)\n",
    "print()\n",
    "height = df_A['Student_height']\n",
    "print(type(height))"
   ]
  },
  {
   "cell_type": "markdown",
   "metadata": {},
   "source": [
    "<h1>TASK-4</h1>"
   ]
  },
  {
   "cell_type": "markdown",
   "metadata": {},
   "source": [
    "Select the rows corresponding to students s1, s2 of df_A, and capture them in another dataframe df_s1s2. Note: Use either .loc or .iloc methods.\n",
    "\n",
    "Print the dataframe df_s1s2."
   ]
  },
  {
   "cell_type": "code",
   "execution_count": 51,
   "metadata": {},
   "outputs": [
    {
     "name": "stdout",
     "output_type": "stream",
     "text": [
      "    Student_height  Student_weight\n",
      "s1           176.2            85.1\n",
      "s2           158.4            90.2\n"
     ]
    }
   ],
   "source": [
    "df_s1s2 = df_A.loc[['s1','s2']]\n",
    "print(df_s1s2)"
   ]
  },
  {
   "cell_type": "markdown",
   "metadata": {},
   "source": [
    "<h1>TASK-5</h1>"
   ]
  },
  {
   "cell_type": "markdown",
   "metadata": {},
   "source": [
    "Select the rows corresponding to students s1, s2 and s5 of df_A in the order s2, s5, s1, and capture them in another dataframe df_s2s5s1.\n",
    "\n",
    "Note: Make use of either .loc or .iloc methods.\n",
    "\n",
    "Print the dataframe df_s2s5s1"
   ]
  },
  {
   "cell_type": "code",
   "execution_count": 53,
   "metadata": {},
   "outputs": [
    {
     "name": "stdout",
     "output_type": "stream",
     "text": [
      "    Student_height  Student_weight\n",
      "s2           158.4            90.2\n",
      "s5           161.4            78.9\n",
      "s1           176.2            85.1\n"
     ]
    }
   ],
   "source": [
    "df_s2s5s1 = df_A.loc[['s2','s5','s1']]\n",
    "print(df_s2s5s1)"
   ]
  },
  {
   "cell_type": "markdown",
   "metadata": {},
   "source": [
    "<h1>TASK-6</h1>"
   ]
  },
  {
   "cell_type": "markdown",
   "metadata": {},
   "source": [
    "Select those rows of df_A whose index values end with 1 or 4, and capture them in another dataframe df_s1s4. Note: Pass a boolean function which checks if an index string ends with 1 or 4 to .loc or .iloc methods.\n",
    "\n",
    "Print the dataframe df_s1s4."
   ]
  },
  {
   "cell_type": "code",
   "execution_count": 54,
   "metadata": {},
   "outputs": [
    {
     "data": {
      "text/plain": [
       "Index(['s1', 's2', 's3', 's4', 's5'], dtype='object')"
      ]
     },
     "execution_count": 54,
     "metadata": {},
     "output_type": "execute_result"
    }
   ],
   "source": [
    "df_A.index"
   ]
  },
  {
   "cell_type": "code",
   "execution_count": 56,
   "metadata": {},
   "outputs": [
    {
     "data": {
      "text/plain": [
       "array([ True, False, False, False, False])"
      ]
     },
     "execution_count": 56,
     "metadata": {},
     "output_type": "execute_result"
    }
   ],
   "source": [
    "df_A.index.str.endswith('1')"
   ]
  },
  {
   "cell_type": "code",
   "execution_count": 58,
   "metadata": {},
   "outputs": [
    {
     "name": "stdout",
     "output_type": "stream",
     "text": [
      "    Student_height  Student_weight\n",
      "s1           176.2            85.1\n",
      "s4           156.2            80.4\n"
     ]
    }
   ],
   "source": [
    "df_s1s4 = df_A.loc[(df_A.index.str.endswith('1') | df_A.index.str.endswith('4'))]\n",
    "print(df_s1s4)"
   ]
  }
 ],
 "metadata": {
  "kernelspec": {
   "display_name": "Python 3",
   "language": "python",
   "name": "python3"
  },
  "language_info": {
   "codemirror_mode": {
    "name": "ipython",
    "version": 3
   },
   "file_extension": ".py",
   "mimetype": "text/x-python",
   "name": "python",
   "nbconvert_exporter": "python",
   "pygments_lexer": "ipython3",
   "version": "3.6.9"
  }
 },
 "nbformat": 4,
 "nbformat_minor": 2
}
