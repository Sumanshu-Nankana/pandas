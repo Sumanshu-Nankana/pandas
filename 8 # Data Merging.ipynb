{
 "cells": [
  {
   "cell_type": "markdown",
   "metadata": {},
   "source": [
    "<h1> DATA MERGING </h1>"
   ]
  },
  {
   "cell_type": "raw",
   "metadata": {},
   "source": [
    "Data Merging refers to combining data stored in multiple entities based on a specific criteria.\n",
    "\n",
    "Pandas provides utilities like merge, which is used to merge two or more data frames"
   ]
  },
  {
   "cell_type": "code",
   "execution_count": 1,
   "metadata": {},
   "outputs": [],
   "source": [
    "import pandas as pd"
   ]
  },
  {
   "cell_type": "code",
   "execution_count": 2,
   "metadata": {},
   "outputs": [],
   "source": [
    "df1 = pd.DataFrame({'HPI':[80,85,88,85],\n",
    "                   'Int_rate':[2,3,2,2],\n",
    "                   'US_GDP_Thousands':[50,55,65,55]},\n",
    "                  index=[2001,2002,2003,2004])\n",
    "\n",
    "df2 = pd.DataFrame({'HPI':[80,85,88,85],\n",
    "                   'Int_rate':[2,3,2,2],\n",
    "                   'US_GDP_Thousands':[50,55,65,55]},\n",
    "                  index=[2005,2006,2007,2008])\n",
    "\n",
    "df3 = pd.DataFrame({'HPI':[80,85,88,85],\n",
    "                   'Unemployment':[7,8,9,6],\n",
    "                   'Low_tier_HPI':[50,52,50,53]},\n",
    "                  index=[2001,2002,2003,2004])"
   ]
  },
  {
   "cell_type": "code",
   "execution_count": 3,
   "metadata": {},
   "outputs": [
    {
     "name": "stdout",
     "output_type": "stream",
     "text": [
      "   HPI  Int_rate_x  US_GDP_Thousands_x  Int_rate_y  US_GDP_Thousands_y\n",
      "0   80           2                  50           2                  50\n",
      "1   85           3                  55           3                  55\n",
      "2   85           3                  55           2                  55\n",
      "3   85           2                  55           3                  55\n",
      "4   85           2                  55           2                  55\n",
      "5   88           2                  65           2                  65\n"
     ]
    }
   ],
   "source": [
    "print(pd.merge(df1,df2,on='HPI'))"
   ]
  },
  {
   "cell_type": "code",
   "execution_count": 4,
   "metadata": {},
   "outputs": [],
   "source": [
    "# we could not notice in original list we have 4 values (rows)\n",
    "# but after merge we have more than 4 - its due to duplciates in HPI column (i.e. value 85)\n",
    "# but this is not ideal merge scenario"
   ]
  },
  {
   "cell_type": "code",
   "execution_count": 5,
   "metadata": {},
   "outputs": [
    {
     "name": "stdout",
     "output_type": "stream",
     "text": [
      "   HPI  Int_rate  US_GDP_Thousands_x  US_GDP_Thousands_y\n",
      "0   80         2                  50                  50\n",
      "1   85         3                  55                  55\n",
      "2   88         2                  65                  65\n",
      "3   85         2                  55                  55\n"
     ]
    }
   ],
   "source": [
    "print(pd.merge(df1,df2,on=['HPI','Int_rate']))"
   ]
  },
  {
   "cell_type": "code",
   "execution_count": 6,
   "metadata": {},
   "outputs": [
    {
     "name": "stdout",
     "output_type": "stream",
     "text": [
      "   Year  Int_rate  US_GDP_Thousands  Unemployment  Low_tier_HPI\n",
      "0  2001         2                50             7            50\n",
      "1  2003         2                65             8            52\n",
      "2  2004         2                55             9            50\n"
     ]
    }
   ],
   "source": [
    "df1 = pd.DataFrame({'Year':[2001,2002,2003,2004],\n",
    "                   'Int_rate':[2,3,2,2],\n",
    "                   'US_GDP_Thousands':[50,55,65,55]})\n",
    "\n",
    "\n",
    "df3 = pd.DataFrame({'Year':[2001,2003,2004,2005],\n",
    "                   'Unemployment':[7,8,9,6],\n",
    "                   'Low_tier_HPI':[50,52,50,53]})\n",
    "\n",
    "merged = pd.merge(df1,df3,on='Year')\n",
    "print(merged)"
   ]
  },
  {
   "cell_type": "code",
   "execution_count": 7,
   "metadata": {},
   "outputs": [],
   "source": [
    "# we could see both 2002 and 2005 missed"
   ]
  },
  {
   "cell_type": "code",
   "execution_count": 8,
   "metadata": {},
   "outputs": [
    {
     "name": "stdout",
     "output_type": "stream",
     "text": [
      "      Int_rate  US_GDP_Thousands  Unemployment  Low_tier_HPI\n",
      "Year                                                        \n",
      "2001         2                50             7            50\n",
      "2003         2                65             8            52\n",
      "2004         2                55             9            50\n"
     ]
    }
   ],
   "source": [
    "df1 = pd.DataFrame({'Year':[2001,2002,2003,2004],\n",
    "                   'Int_rate':[2,3,2,2],\n",
    "                   'US_GDP_Thousands':[50,55,65,55]})\n",
    "\n",
    "\n",
    "df3 = pd.DataFrame({'Year':[2001,2003,2004,2005],\n",
    "                   'Unemployment':[7,8,9,6],\n",
    "                   'Low_tier_HPI':[50,52,50,53]})\n",
    "\n",
    "merged = pd.merge(df1,df3,on='Year')\n",
    "merged.set_index('Year',inplace=True)\n",
    "print(merged)"
   ]
  },
  {
   "cell_type": "code",
   "execution_count": 9,
   "metadata": {},
   "outputs": [
    {
     "name": "stdout",
     "output_type": "stream",
     "text": [
      "      Int_rate  US_GDP_Thousands  Unemployment  Low_tier_HPI\n",
      "Year                                                        \n",
      "2001         2                50           7.0          50.0\n",
      "2002         3                55           NaN           NaN\n",
      "2003         2                65           8.0          52.0\n",
      "2004         2                55           9.0          50.0\n"
     ]
    }
   ],
   "source": [
    "df1 = pd.DataFrame({'Year':[2001,2002,2003,2004],\n",
    "                   'Int_rate':[2,3,2,2],\n",
    "                   'US_GDP_Thousands':[50,55,65,55]})\n",
    "\n",
    "\n",
    "df3 = pd.DataFrame({'Year':[2001,2003,2004,2005],\n",
    "                   'Unemployment':[7,8,9,6],\n",
    "                   'Low_tier_HPI':[50,52,50,53]})\n",
    "\n",
    "merged = pd.merge(df1,df3,on='Year',how='left')\n",
    "merged.set_index('Year',inplace=True)\n",
    "print(merged)"
   ]
  },
  {
   "cell_type": "code",
   "execution_count": 10,
   "metadata": {},
   "outputs": [
    {
     "name": "stdout",
     "output_type": "stream",
     "text": [
      "      Int_rate  US_GDP_Thousands  Unemployment  Low_tier_HPI\n",
      "Year                                                        \n",
      "2001       2.0              50.0             7            50\n",
      "2003       2.0              65.0             8            52\n",
      "2004       2.0              55.0             9            50\n",
      "2005       NaN               NaN             6            53\n"
     ]
    }
   ],
   "source": [
    "df1 = pd.DataFrame({'Year':[2001,2002,2003,2004],\n",
    "                   'Int_rate':[2,3,2,2],\n",
    "                   'US_GDP_Thousands':[50,55,65,55]})\n",
    "\n",
    "\n",
    "df3 = pd.DataFrame({'Year':[2001,2003,2004,2005],\n",
    "                   'Unemployment':[7,8,9,6],\n",
    "                   'Low_tier_HPI':[50,52,50,53]})\n",
    "\n",
    "merged = pd.merge(df1,df3,on='Year',how='right')\n",
    "merged.set_index('Year',inplace=True)\n",
    "print(merged)"
   ]
  },
  {
   "cell_type": "code",
   "execution_count": 11,
   "metadata": {},
   "outputs": [
    {
     "name": "stdout",
     "output_type": "stream",
     "text": [
      "      Int_rate  US_GDP_Thousands  Unemployment  Low_tier_HPI\n",
      "Year                                                        \n",
      "2001       2.0              50.0           7.0          50.0\n",
      "2002       3.0              55.0           NaN           NaN\n",
      "2003       2.0              65.0           8.0          52.0\n",
      "2004       2.0              55.0           9.0          50.0\n",
      "2005       NaN               NaN           6.0          53.0\n"
     ]
    }
   ],
   "source": [
    "df1 = pd.DataFrame({'Year':[2001,2002,2003,2004],\n",
    "                   'Int_rate':[2,3,2,2],\n",
    "                   'US_GDP_Thousands':[50,55,65,55]})\n",
    "\n",
    "\n",
    "df3 = pd.DataFrame({'Year':[2001,2003,2004,2005],\n",
    "                   'Unemployment':[7,8,9,6],\n",
    "                   'Low_tier_HPI':[50,52,50,53]})\n",
    "\n",
    "merged = pd.merge(df1,df3,on='Year',how='outer')\n",
    "merged.set_index('Year',inplace=True)\n",
    "print(merged)"
   ]
  },
  {
   "cell_type": "code",
   "execution_count": 12,
   "metadata": {},
   "outputs": [
    {
     "name": "stdout",
     "output_type": "stream",
     "text": [
      "      Int_rate  US_GDP_Thousands  Unemployment  Low_tier_HPI\n",
      "Year                                                        \n",
      "2001         2                50             7            50\n",
      "2003         2                65             8            52\n",
      "2004         2                55             9            50\n"
     ]
    }
   ],
   "source": [
    "df1 = pd.DataFrame({'Year':[2001,2002,2003,2004],\n",
    "                   'Int_rate':[2,3,2,2],\n",
    "                   'US_GDP_Thousands':[50,55,65,55]})\n",
    "\n",
    "\n",
    "df3 = pd.DataFrame({'Year':[2001,2003,2004,2005],\n",
    "                   'Unemployment':[7,8,9,6],\n",
    "                   'Low_tier_HPI':[50,52,50,53]})\n",
    "\n",
    "merged = pd.merge(df1,df3,on='Year',how='inner')   # default\n",
    "merged.set_index('Year',inplace=True)\n",
    "print(merged)"
   ]
  },
  {
   "cell_type": "code",
   "execution_count": null,
   "metadata": {},
   "outputs": [],
   "source": []
  }
 ],
 "metadata": {
  "kernelspec": {
   "display_name": "Python 3",
   "language": "python",
   "name": "python3"
  },
  "language_info": {
   "codemirror_mode": {
    "name": "ipython",
    "version": 3
   },
   "file_extension": ".py",
   "mimetype": "text/x-python",
   "name": "python",
   "nbconvert_exporter": "python",
   "pygments_lexer": "ipython3",
   "version": "3.6.9"
  }
 },
 "nbformat": 4,
 "nbformat_minor": 2
}
