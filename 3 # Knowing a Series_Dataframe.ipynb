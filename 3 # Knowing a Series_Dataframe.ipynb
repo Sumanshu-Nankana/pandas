{
 "cells": [
  {
   "cell_type": "raw",
   "metadata": {},
   "source": [
    "It is possible to understand a Series better by using describe method.\n",
    "\n",
    "The method provides details like mean, std, etc. about a series."
   ]
  },
  {
   "cell_type": "markdown",
   "metadata": {},
   "source": [
    "<h3>Knowing a Series</h3>"
   ]
  },
  {
   "cell_type": "code",
   "execution_count": 1,
   "metadata": {},
   "outputs": [
    {
     "name": "stdout",
     "output_type": "stream",
     "text": [
      "count    10.000000\n",
      "mean     24.136778\n",
      "std      18.035862\n",
      "min      -7.273040\n",
      "25%      15.209233\n",
      "50%      22.395687\n",
      "75%      38.584949\n",
      "max      50.287173\n",
      "dtype: float64\n"
     ]
    }
   ],
   "source": [
    "import pandas as pd\n",
    "import numpy as np\n",
    "temp = pd.Series(28 + 10*np.random.randn(10))\n",
    "print(temp.describe())"
   ]
  },
  {
   "cell_type": "markdown",
   "metadata": {},
   "source": [
    "<h3>Knowing a Dataframe</h3>"
   ]
  },
  {
   "cell_type": "markdown",
   "metadata": {},
   "source": [
    "Two methods majorly info and describe can be used to know about the data, present in a data frame."
   ]
  },
  {
   "cell_type": "code",
   "execution_count": 2,
   "metadata": {},
   "outputs": [
    {
     "name": "stdout",
     "output_type": "stream",
     "text": [
      "<class 'pandas.core.frame.DataFrame'>\n",
      "RangeIndex: 10 entries, 0 to 9\n",
      "Data columns (total 3 columns):\n",
      "temp        10 non-null float64\n",
      "rain        10 non-null float64\n",
      "location    10 non-null object\n",
      "dtypes: float64(2), object(1)\n",
      "memory usage: 320.0+ bytes\n",
      "None\n"
     ]
    }
   ],
   "source": [
    "import pandas as pd\n",
    "import numpy as np\n",
    "df = pd.DataFrame({'temp':pd.Series(28 + 10*np.random.randn(10)), \n",
    "                'rain':pd.Series(100 + 50*np.random.randn(10)),\n",
    "             'location':list('AAAAABBBBB')})\n",
    "print(df.info())"
   ]
  },
  {
   "cell_type": "markdown",
   "metadata": {},
   "source": [
    "describe method by default provides details of only numeric fields."
   ]
  },
  {
   "cell_type": "code",
   "execution_count": 3,
   "metadata": {},
   "outputs": [
    {
     "name": "stdout",
     "output_type": "stream",
     "text": [
      "            temp        rain\n",
      "count  10.000000   10.000000\n",
      "mean   24.491103   93.890594\n",
      "std    10.108750   64.105606\n",
      "min    10.673195   -0.810574\n",
      "25%    19.958945   40.325821\n",
      "50%    23.426261  105.770532\n",
      "75%    28.067060  126.902408\n",
      "max    45.395169  200.489134\n"
     ]
    }
   ],
   "source": [
    "print(df.describe())"
   ]
  },
  {
   "cell_type": "markdown",
   "metadata": {},
   "source": [
    "You can use include argument to know about other columns."
   ]
  },
  {
   "cell_type": "code",
   "execution_count": 4,
   "metadata": {},
   "outputs": [
    {
     "name": "stdout",
     "output_type": "stream",
     "text": [
      "       location\n",
      "count        10\n",
      "unique        2\n",
      "top           A\n",
      "freq          5\n"
     ]
    }
   ],
   "source": [
    "print(df.describe(include=['object']))"
   ]
  }
 ],
 "metadata": {
  "kernelspec": {
   "display_name": "Python 3",
   "language": "python",
   "name": "python3"
  },
  "language_info": {
   "codemirror_mode": {
    "name": "ipython",
    "version": 3
   },
   "file_extension": ".py",
   "mimetype": "text/x-python",
   "name": "python",
   "nbconvert_exporter": "python",
   "pygments_lexer": "ipython3",
   "version": "3.6.9"
  }
 },
 "nbformat": 4,
 "nbformat_minor": 2
}
