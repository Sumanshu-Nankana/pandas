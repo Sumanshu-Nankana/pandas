{
 "cells": [
  {
   "cell_type": "markdown",
   "metadata": {},
   "source": [
    "<h1> PANDAS </h1>"
   ]
  },
  {
   "cell_type": "markdown",
   "metadata": {},
   "source": [
    "Pandas is a popular Python data analysis tool.\n",
    "\n",
    "It provides easy to use and highly efficient data structures.\n",
    "\n",
    "These data structures deal with numeric or labeled data, stored in the form of tables"
   ]
  },
  {
   "cell_type": "markdown",
   "metadata": {},
   "source": [
    "<h4> DATA STRUCTURES IN PANDAS </h4>"
   ]
  },
  {
   "cell_type": "markdown",
   "metadata": {},
   "source": [
    "Three fundamental data structures used in pandas are,\n",
    "\n",
    "Series: A 1-D array.\n",
    "\n",
    "Data Frame: A 2-D array or two or more Series joined together\n",
    "\n",
    "Panel: A 3-D array"
   ]
  },
  {
   "cell_type": "markdown",
   "metadata": {},
   "source": [
    "<h4> Series and DataFrames in Pandas </h4>"
   ]
  },
  {
   "cell_type": "raw",
   "metadata": {},
   "source": [
    "Series is a 1-D array, holding data values of a single variable\n",
    "example - Height of each student, belonging to a Class 'C'.\n",
    "\n",
    "A Data Frame is 2-D shaped and contains data of different parameters,Each observation is represented by a single row, and each parameter by a single column.\n",
    "example - Height and Weight of all students, belonging to a Class 'C'."
   ]
  },
  {
   "cell_type": "markdown",
   "metadata": {},
   "source": [
    "<img src = \"series-and-dataframe.png\">"
   ]
  },
  {
   "cell_type": "markdown",
   "metadata": {},
   "source": [
    "A Panel holds two or more Data Frames together as a single unit.\n",
    "Example - Height and Weight of all students, belonging to 3 Classes 'A', 'B', and 'C'."
   ]
  }
 ],
 "metadata": {
  "kernelspec": {
   "display_name": "Python 3",
   "language": "python",
   "name": "python3"
  },
  "language_info": {
   "codemirror_mode": {
    "name": "ipython",
    "version": 3
   },
   "file_extension": ".py",
   "mimetype": "text/x-python",
   "name": "python",
   "nbconvert_exporter": "python",
   "pygments_lexer": "ipython3",
   "version": "3.6.9"
  }
 },
 "nbformat": 4,
 "nbformat_minor": 2
}
