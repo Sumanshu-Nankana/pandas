{
 "cells": [
  {
   "cell_type": "markdown",
   "metadata": {},
   "source": [
    "<h1>Accessing Data</h1>"
   ]
  },
  {
   "cell_type": "raw",
   "metadata": {},
   "source": [
    "Data Access refers to extracting data present in defined data structures.\n",
    "\n",
    "Pandas provide utilities like loc and iloc to get data from a Series, a DataFrame, or a Panel."
   ]
  },
  {
   "cell_type": "markdown",
   "metadata": {},
   "source": [
    "<h4> Accessing a Single Value </h4>"
   ]
  },
  {
   "cell_type": "raw",
   "metadata": {},
   "source": [
    "Individual elements can be accessed by specifying either index number or index value, inside the square brackets."
   ]
  },
  {
   "cell_type": "code",
   "execution_count": 3,
   "metadata": {},
   "outputs": [
    {
     "data": {
      "text/plain": [
       "array([10, 11, 12, 13, 14, 15])"
      ]
     },
     "execution_count": 3,
     "metadata": {},
     "output_type": "execute_result"
    }
   ],
   "source": [
    "import numpy as np\n",
    "z = np.arange(10, 16)\n",
    "z"
   ]
  },
  {
   "cell_type": "code",
   "execution_count": 5,
   "metadata": {},
   "outputs": [
    {
     "name": "stdout",
     "output_type": "stream",
     "text": [
      "12\n",
      "13\n"
     ]
    }
   ],
   "source": [
    "import pandas as pd\n",
    "import numpy as np\n",
    "z = np.arange(10, 16)\n",
    "s = pd.Series(z, index=list('abcdef'))\n",
    "#Accessing 3rd element of s.\n",
    "print(s[2]) # ---> Returns '12' \n",
    "#Accessing 4th element of s.\n",
    "print(s['d']) # ---> Returns '13'"
   ]
  },
  {
   "cell_type": "raw",
   "metadata": {},
   "source": [
    "It is also possible to access a single element by passing index number or index value, as an argument to get method."
   ]
  },
  {
   "cell_type": "code",
   "execution_count": 6,
   "metadata": {},
   "outputs": [
    {
     "name": "stdout",
     "output_type": "stream",
     "text": [
      "12\n",
      "13\n"
     ]
    }
   ],
   "source": [
    "print(s.get(2)) # ---> Returns '12'\n",
    "print(s.get('d')) # ---> Returns '13'"
   ]
  },
  {
   "cell_type": "raw",
   "metadata": {},
   "source": [
    "ACCESSING A SLICE - A Series can be sliced in a way, very similar to slicing a python list."
   ]
  },
  {
   "cell_type": "code",
   "execution_count": 8,
   "metadata": {},
   "outputs": [
    {
     "name": "stdout",
     "output_type": "stream",
     "text": [
      "a    10\n",
      "b    11\n",
      "c    12\n",
      "d    13\n",
      "e    14\n",
      "f    15\n",
      "dtype: int64\n"
     ]
    }
   ],
   "source": [
    "print(s) # full series"
   ]
  },
  {
   "cell_type": "code",
   "execution_count": 7,
   "metadata": {},
   "outputs": [
    {
     "data": {
      "text/plain": [
       "b    11\n",
       "c    12\n",
       "d    13\n",
       "dtype: int64"
      ]
     },
     "execution_count": 7,
     "metadata": {},
     "output_type": "execute_result"
    }
   ],
   "source": [
    "s[1:4]"
   ]
  },
  {
   "cell_type": "raw",
   "metadata": {},
   "source": [
    "Elements corresponding to start and end index values are included, when index values are used for slicing"
   ]
  },
  {
   "cell_type": "code",
   "execution_count": 9,
   "metadata": {},
   "outputs": [
    {
     "data": {
      "text/plain": [
       "b    11\n",
       "c    12\n",
       "d    13\n",
       "e    14\n",
       "dtype: int64"
      ]
     },
     "execution_count": 9,
     "metadata": {},
     "output_type": "execute_result"
    }
   ],
   "source": [
    "s['b':'e']"
   ]
  },
  {
   "cell_type": "markdown",
   "metadata": {},
   "source": [
    "<h4> ACCESSING DATA FROM DATAFRAME</h4>"
   ]
  },
  {
   "cell_type": "raw",
   "metadata": {},
   "source": [
    "Pandas allows .loc, .iloc methods for selecting rows"
   ]
  },
  {
   "cell_type": "raw",
   "metadata": {},
   "source": [
    "Using square brackets ([]) is also allowed, especially for selecting columns."
   ]
  },
  {
   "cell_type": "code",
   "execution_count": 23,
   "metadata": {},
   "outputs": [
    {
     "name": "stdout",
     "output_type": "stream",
     "text": [
      "       col1      col2      col3\n",
      "0  0.201145  0.684185  0.492374\n",
      "1  0.338685  0.340260  0.559937\n",
      "2  0.951646  0.992820  0.900807\n",
      "3  0.208731  0.581453  0.407694\n",
      "4  0.937086  0.270363  0.728288\n",
      "\n",
      "       col1      col2      col3\n",
      "0  0.201145  0.684185  0.492374\n",
      "1  0.338685  0.340260  0.559937\n",
      "\n",
      "0    0.201145\n",
      "1    0.338685\n",
      "2    0.951646\n",
      "3    0.208731\n",
      "4    0.937086\n",
      "Name: col1, dtype: float64\n",
      "\n",
      "       col1      col2\n",
      "0  0.201145  0.684185\n",
      "1  0.338685  0.340260\n",
      "2  0.951646  0.992820\n",
      "3  0.208731  0.581453\n",
      "4  0.937086  0.270363\n",
      "\n",
      "col1    0.201145\n",
      "col2    0.684185\n",
      "col3    0.492374\n",
      "Name: 0, dtype: float64\n",
      "\n",
      "       col1      col2      col3\n",
      "0  0.201145  0.684185  0.492374\n",
      "1  0.338685  0.340260  0.559937\n",
      "\n",
      "       col1      col2      col3\n",
      "0  0.201145  0.684185  0.492374\n",
      "1  0.338685  0.340260  0.559937\n"
     ]
    }
   ],
   "source": [
    "import pandas as pd\n",
    "import numpy as np\n",
    "\n",
    "df_data = {\n",
    "    'col1':np.random.rand(5),\n",
    "    'col2':np.random.rand(5),\n",
    "    'col3':np.random.rand(5)\n",
    "}\n",
    "\n",
    "df = pd.DataFrame(df_data)\n",
    "print(df)\n",
    "\n",
    "print()\n",
    "# Fetch 2 rows\n",
    "print(df[:2])   # row-0, row-1\n",
    "\n",
    "print()\n",
    "# Fetch a columns\n",
    "print(df['col1'])\n",
    "\n",
    "print()\n",
    "# fetch multiple columns  # pass the list of columns\n",
    "print(df[['col1','col2']])\n",
    "\n",
    "\n",
    "# loc -- fetch rows with label\n",
    "\n",
    "print()\n",
    "print(df.loc[0])  #0th row\n",
    "\n",
    "\n",
    "print()\n",
    "print(df.loc[[0,1]])  # row-0 and row-1\n",
    "\n",
    "\n",
    "# iloc -- fetch rows with index (integer based)\n",
    "\n",
    "print()\n",
    "print(df.iloc[[0,1]])"
   ]
  },
  {
   "cell_type": "code",
   "execution_count": null,
   "metadata": {},
   "outputs": [],
   "source": []
  }
 ],
 "metadata": {
  "kernelspec": {
   "display_name": "Python 3",
   "language": "python",
   "name": "python3"
  },
  "language_info": {
   "codemirror_mode": {
    "name": "ipython",
    "version": 3
   },
   "file_extension": ".py",
   "mimetype": "text/x-python",
   "name": "python",
   "nbconvert_exporter": "python",
   "pygments_lexer": "ipython3",
   "version": "3.6.9"
  }
 },
 "nbformat": 4,
 "nbformat_minor": 2
}
