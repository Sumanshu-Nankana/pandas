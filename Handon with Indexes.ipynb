{
 "cells": [
  {
   "cell_type": "markdown",
   "metadata": {},
   "source": [
    "<h1>TASK-1</h1>"
   ]
  },
  {
   "cell_type": "raw",
   "metadata": {},
   "source": [
    "Create an index named dates representing a range of dates starting from 1-Sep-2017 to 15-Sep-2017.\n",
    "\n",
    "Note: Use the date_range method of pandas.\n",
    "\n",
    "Print the 3rd element of the created DateTimeIndex."
   ]
  },
  {
   "cell_type": "code",
   "execution_count": 4,
   "metadata": {},
   "outputs": [
    {
     "data": {
      "text/plain": [
       "Timestamp('2017-09-03 00:00:00', freq='D')"
      ]
     },
     "execution_count": 4,
     "metadata": {},
     "output_type": "execute_result"
    }
   ],
   "source": [
    "import pandas as pd\n",
    "dates = pd.date_range('1-Sep-2017','15-Sep-2017')\n",
    "dates[2]"
   ]
  },
  {
   "cell_type": "markdown",
   "metadata": {},
   "source": [
    "<h1>TASK-2</h1>"
   ]
  },
  {
   "cell_type": "raw",
   "metadata": {},
   "source": [
    "Convert the following date strings into datetime objects: datelist = ['14-Sep-2017', '9-Sep-2017'].\n",
    "\n",
    "Note: Use the to_datetime method of pandas.\n",
    "\n",
    "Capture the result in the variable 'dates_to_be_searched' and print it."
   ]
  },
  {
   "cell_type": "code",
   "execution_count": 6,
   "metadata": {},
   "outputs": [
    {
     "name": "stdout",
     "output_type": "stream",
     "text": [
      "<class 'pandas.core.indexes.datetimes.DatetimeIndex'>\n",
      "DatetimeIndex(['2017-09-14', '2017-09-09'], dtype='datetime64[ns]', freq=None)\n"
     ]
    }
   ],
   "source": [
    "import pandas as pd\n",
    "datelist = ['14-Sep-2017', '9-Sep-2017']\n",
    "dates_to_be_searched = pd.to_datetime(datelist)\n",
    "print(dates_to_be_searched)"
   ]
  },
  {
   "cell_type": "markdown",
   "metadata": {},
   "source": [
    "<h1>TASK-3</h1>"
   ]
  },
  {
   "cell_type": "raw",
   "metadata": {},
   "source": [
    "Check if the elements of 'dates_to_be_searched' are present in DateTimeIndex, 'dates', created above.\n",
    "\n",
    "Note: Use the isin method associated with DatetimeIndex objects.\n",
    "\n",
    "Print the output"
   ]
  },
  {
   "cell_type": "code",
   "execution_count": 8,
   "metadata": {},
   "outputs": [
    {
     "name": "stdout",
     "output_type": "stream",
     "text": [
      "[ True  True]\n"
     ]
    }
   ],
   "source": [
    "print(dates_to_be_searched.isin(dates))"
   ]
  },
  {
   "cell_type": "markdown",
   "metadata": {},
   "source": [
    "<h1>TASK-4</h1>"
   ]
  },
  {
   "cell_type": "raw",
   "metadata": {},
   "source": [
    "Create a multi index named mi_index of two levels, represented in the following array arraylist: arraylist = [['classA']*5 + ['classB']*5, ['s1', 's2', 's3','s4', 's5']*2] .\n",
    "\n",
    "Note: Use MultiIndex of pandas.\n",
    "\n",
    "Print levels of mi_index."
   ]
  },
  {
   "cell_type": "code",
   "execution_count": 12,
   "metadata": {},
   "outputs": [
    {
     "name": "stdout",
     "output_type": "stream",
     "text": [
      "[['classA', 'classA', 'classA', 'classA', 'classA', 'classB', 'classB', 'classB', 'classB', 'classB'], ['s1', 's2', 's3', 's4', 's5', 's1', 's2', 's3', 's4', 's5']]\n",
      "MultiIndex(levels=[['classA', 'classB'], ['s1', 's2', 's3', 's4', 's5']],\n",
      "           codes=[[0, 0, 0, 0, 0, 1, 1, 1, 1, 1], [0, 1, 2, 3, 4, 0, 1, 2, 3, 4]])\n"
     ]
    }
   ],
   "source": [
    "import pandas as pd\n",
    "arraylist = [['classA']*5 + ['classB']*5, ['s1', 's2', 's3','s4', 's5']*2]\n",
    "print(arraylist)\n",
    "mi_index = pd.MultiIndex.from_arrays(arraylist)\n",
    "print(mi_index)"
   ]
  },
  {
   "cell_type": "code",
   "execution_count": null,
   "metadata": {},
   "outputs": [],
   "source": []
  }
 ],
 "metadata": {
  "kernelspec": {
   "display_name": "Python 3",
   "language": "python",
   "name": "python3"
  },
  "language_info": {
   "codemirror_mode": {
    "name": "ipython",
    "version": 3
   },
   "file_extension": ".py",
   "mimetype": "text/x-python",
   "name": "python",
   "nbconvert_exporter": "python",
   "pygments_lexer": "ipython3",
   "version": "3.6.9"
  }
 },
 "nbformat": 4,
 "nbformat_minor": 2
}
