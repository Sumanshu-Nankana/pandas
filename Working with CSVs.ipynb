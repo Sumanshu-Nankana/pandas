{
 "cells": [
  {
   "cell_type": "markdown",
   "metadata": {},
   "source": [
    "<h1>TASK-1</h1>"
   ]
  },
  {
   "cell_type": "raw",
   "metadata": {},
   "source": [
    "Create a series named heights_A with values 176.2, 158.4, 167.6, 156.2, and 161.4. These values represent heights of 5 students of class A.\n",
    "\n",
    "    Label each student as s1, s2, s3, s4, and s5.\n",
    "\n",
    "    Create another series named weights_A with values 85.1, 90.2, 76.8, 80.4, and 78.9. These values represent weights of 5 students of class A.\n",
    "\n",
    "    Label each student as s1, s2, s3, s4, and s5.\n",
    "\n",
    "    Create a dataframe named df_A, which contains the height and weight of five students namely s1, s2, s3, s4 and s5.\n",
    "\n",
    "    Label the columns as Student_height and Student_weight, respectively.\n",
    "\n",
    "    Write the contents of df_A to a CSV file named classA.csv.\n",
    "\n",
    "Note: Use the to_csv method associated with a dataframe.\n",
    "\n",
    "    Verify if the file classA.csv exists in the present directory using command ls -l.\n",
    "\n",
    "    You can also view the contents of the file using the command cat classA.csv\n"
   ]
  },
  {
   "cell_type": "code",
   "execution_count": 1,
   "metadata": {},
   "outputs": [],
   "source": [
    "import pandas as pd\n",
    "heights_A = pd.Series([176.2,158.4,167.6,1562,161.4],index=['s1','s2','s3','s4','s5'])\n",
    "weights_A = pd.Series([85.1, 90.2, 76.8, 80.4,78.9],index=['s1','s2','s3','s4','s5'])\n",
    "frame = {\"Student_height\":heights_A,\"Student_weight\":weights_A}\n",
    "df_A = pd.DataFrame(frame)\n",
    "df_A.to_csv('classA.csv')"
   ]
  },
  {
   "cell_type": "code",
   "execution_count": 2,
   "metadata": {},
   "outputs": [
    {
     "name": "stdout",
     "output_type": "stream",
     "text": [
      "total 164\r\n",
      "-rw-r--r-- 1 sumanshu sumanshu  2227 Mar 17 22:13 '1 # Pandas and It'\\''s Data Structures.ipynb'\r\n",
      "-rw-r--r-- 1 sumanshu sumanshu  6859 Mar 18 01:12 '2 # Accessing Data from Pandas Data Structures.ipynb'\r\n",
      "-rw-r--r-- 1 sumanshu sumanshu  3797 Mar 18 20:28 '3 # Knowing a Series_Dataframe.ipynb'\r\n",
      "-rw-r--r-- 1 sumanshu sumanshu 34150 Mar 19 00:24 '4 # Reading and Writing Data with Pandas.ipynb'\r\n",
      "-rw-r--r-- 1 sumanshu sumanshu  7232 Mar 18 17:42 'Access Elements in Data Structures.ipynb'\r\n",
      "-rw-r--r-- 1 sumanshu sumanshu   102 Mar 19 13:24  classA.csv\r\n",
      "-rw-r--r-- 1 sumanshu sumanshu  1511 Mar 18 22:20 \"MCQ's.ipynb\"\r\n",
      "-rw-r--r-- 1 sumanshu sumanshu  7462 Mar 17 22:13 'Pandas Data Structures.ipynb'\r\n",
      "-rw-rw-r-- 1 sumanshu sumanshu 54557 Mar 17 21:06  \u001b[0m\u001b[01;35mseries-and-dataframe.png\u001b[0m\r\n",
      "-rw-r--r-- 1 sumanshu sumanshu  6324 Mar 19 00:23 'Working with CSVs.ipynb'\r\n",
      "-rw-r--r-- 1 sumanshu sumanshu  3079 Mar 18 21:13  ZILLOW_1.csv\r\n",
      "-rw-r--r-- 1 sumanshu sumanshu  7250 Mar 18 21:19  zillow1.html\r\n",
      "-rw-r--r-- 1 sumanshu sumanshu  3050 Mar 18 21:13  ZILLOW_2.csv\r\n",
      "-rw-r--r-- 1 sumanshu sumanshu  3034 Mar 18 21:14  ZILLOW_3.csv\r\n",
      "-rw-rw-r-- 1 sumanshu sumanshu  2969 Mar 18 20:42  ZILLOW-Z77006_ZMTY.csv\r\n"
     ]
    }
   ],
   "source": [
    "ls -l"
   ]
  },
  {
   "cell_type": "code",
   "execution_count": 3,
   "metadata": {},
   "outputs": [
    {
     "name": "stdout",
     "output_type": "stream",
     "text": [
      ",Student_height,Student_weight\r\n",
      "s1,176.2,85.1\r\n",
      "s2,158.4,90.2\r\n",
      "s3,167.6,76.8\r\n",
      "s4,1562.0,80.4\r\n",
      "s5,161.4,78.9\r\n"
     ]
    }
   ],
   "source": [
    "cat classA.csv"
   ]
  },
  {
   "cell_type": "markdown",
   "metadata": {},
   "source": [
    "<h1>TASK-2</h1>"
   ]
  },
  {
   "cell_type": "markdown",
   "metadata": {},
   "source": [
    "Read the contents of the CSV file, classA.csv into a dataframe named df_A2. Note: Use read_csv method of pandas.\n",
    "Display the dataframe df_A2."
   ]
  },
  {
   "cell_type": "code",
   "execution_count": 9,
   "metadata": {},
   "outputs": [
    {
     "name": "stdout",
     "output_type": "stream",
     "text": [
      "  Unnamed: 0  Student_height  Student_weight\n",
      "0         s1           176.2            85.1\n",
      "1         s2           158.4            90.2\n",
      "2         s3           167.6            76.8\n",
      "3         s4          1562.0            80.4\n",
      "4         s5           161.4            78.9\n"
     ]
    }
   ],
   "source": [
    "df_A2 = pd.read_csv('classA.csv')\n",
    "print(df_A2)"
   ]
  },
  {
   "cell_type": "code",
   "execution_count": null,
   "metadata": {},
   "outputs": [],
   "source": []
  },
  {
   "cell_type": "markdown",
   "metadata": {},
   "source": [
    "<h1>TASK-3</h1>"
   ]
  },
  {
   "cell_type": "markdown",
   "metadata": {},
   "source": [
    "Read the contents of the CSV file classA.csv into a dataframe named df_A3, such that the first column data values are treated as index to df_A3.\n",
    "\n",
    "Note: Use the index_col argument of read_csv method.\n",
    "\n",
    "Display the dataframe df_A3."
   ]
  },
  {
   "cell_type": "code",
   "execution_count": 12,
   "metadata": {},
   "outputs": [
    {
     "name": "stdout",
     "output_type": "stream",
     "text": [
      "    Student_height  Student_weight\n",
      "s1           176.2            85.1\n",
      "s2           158.4            90.2\n",
      "s3           167.6            76.8\n",
      "s4          1562.0            80.4\n",
      "s5           161.4            78.9\n"
     ]
    }
   ],
   "source": [
    "df_A3 = pd.read_csv('classA.csv',index_col=[0])\n",
    "print(df_A3)"
   ]
  },
  {
   "cell_type": "markdown",
   "metadata": {},
   "source": [
    "<h1>TASK-4</h1>"
   ]
  },
  {
   "cell_type": "raw",
   "metadata": {},
   "source": [
    "Create another Series named heights_B from a 1-D numpy array of 5 elements derived from the normal distribution of mean 170.0 and standard deviation 25.0.\n",
    "\n",
    "Note: Set random seed to 100 before creating heights_B series. Use numpy.\n",
    "\n",
    "Create another Series named weights_B from a 1-D numpy array of 5 elements derived from the normal distribution of mean 75.0 and standard deviation 12.0.\n",
    "\n",
    "Note: Set random seed to 100 again before creating weights_B series. Use numpy.\n",
    "\n",
    "    Label both Series elements with s1, s2, s3, s4 and s5.\n",
    "\n",
    "    Create a dataframe df_B containing the height and weight of students s1, s2, s3, s4 and s5 belonging to class B.\n",
    "\n",
    "    Label the columns as Student_height and Student_weight respectively.\n",
    "\n",
    "    Write the contents of df_B without the index to a CSV file named classB.csv. Note: Use the index argument of to_csv method.\n",
    "\n",
    "    Verify if the file classB.csv exists in the present directory using the command ls -1.\n",
    "\n",
    "    Display the contents of classB.csv using the command cat classB.csv.\n"
   ]
  },
  {
   "cell_type": "code",
   "execution_count": 19,
   "metadata": {},
   "outputs": [
    {
     "name": "stdout",
     "output_type": "stream",
     "text": [
      "    Student_height  Student_weight\n",
      "s1      126.255863       54.002814\n",
      "s2      178.567010       79.112165\n",
      "s3      198.825895       88.836430\n",
      "s4      163.689099       71.970768\n",
      "s5      194.533020       86.775849\n"
     ]
    }
   ],
   "source": [
    "import pandas as pd\n",
    "import numpy as np\n",
    "\n",
    "np.random.seed(100)\n",
    "heights_B = pd.Series(170.0+25.0*np.random.randn(5),index=['s1','s2','s3','s4','s5'])\n",
    "\n",
    "np.random.seed(100)\n",
    "weights_B = pd.Series(75.0+12.0*np.random.randn(5),index=['s1','s2','s3','s4','s5'])\n",
    "\n",
    "frame = {'Student_height':heights_B,\"Student_weight\":weights_B}\n",
    "df_B = pd.DataFrame(frame)\n",
    "\n",
    "df_B.to_csv('classB.csv',index=False)\n",
    "\n",
    "print(df_B)"
   ]
  },
  {
   "cell_type": "markdown",
   "metadata": {},
   "source": [
    "<h1>TASK-5</h1>"
   ]
  },
  {
   "cell_type": "raw",
   "metadata": {},
   "source": [
    "Read the data from the classB.csv file into a dataframe df_B2. Note: Use the read_csv method.\n",
    "Display the dataframe df_B2"
   ]
  },
  {
   "cell_type": "code",
   "execution_count": 20,
   "metadata": {},
   "outputs": [
    {
     "name": "stdout",
     "output_type": "stream",
     "text": [
      "   Student_height  Student_weight\n",
      "0      126.255863       54.002814\n",
      "1      178.567010       79.112165\n",
      "2      198.825895       88.836430\n",
      "3      163.689099       71.970768\n",
      "4      194.533020       86.775849\n"
     ]
    }
   ],
   "source": [
    "df_B2 = pd.read_csv('classB.csv')\n",
    "print(df_B2)"
   ]
  },
  {
   "cell_type": "markdown",
   "metadata": {},
   "source": [
    "<h1>TASK-6</h1>"
   ]
  },
  {
   "cell_type": "raw",
   "metadata": {},
   "source": [
    "Read data from the classB.csv file into a dataframe df_B3, such that the argument header of read_csv is set to None Note: When the header is set to None, data is read assuming there is no header in the input csv file.\n",
    "Display the dataframe df_B3."
   ]
  },
  {
   "cell_type": "code",
   "execution_count": 21,
   "metadata": {},
   "outputs": [
    {
     "name": "stdout",
     "output_type": "stream",
     "text": [
      "                    0                  1\n",
      "0      Student_height     Student_weight\n",
      "1  126.25586317363256  54.00281432334363\n",
      "2  178.56701008318754  79.11216483993003\n",
      "3   198.8258950640911  88.83642963076373\n",
      "4  163.68909908696526  71.97076756174332\n",
      "5  194.53301967378079  86.77584944341478\n"
     ]
    }
   ],
   "source": [
    "df_B3 = pd.read_csv('classB.csv',header=None)\n",
    "print(df_B3)"
   ]
  },
  {
   "cell_type": "markdown",
   "metadata": {},
   "source": [
    "<h1>TASK-7</h1>"
   ]
  },
  {
   "cell_type": "raw",
   "metadata": {},
   "source": [
    "Read data from the classB.csv file into a dataframe df_B4, such that the argument header of read_csv is set to None, and argument skiprows is set to 2. Note: *skiprows skips reading the first n number of rows from the input csv file.*\n",
    "Display the dataframe df_B4."
   ]
  },
  {
   "cell_type": "code",
   "execution_count": 22,
   "metadata": {},
   "outputs": [
    {
     "name": "stdout",
     "output_type": "stream",
     "text": [
      "            0          1\n",
      "0  178.567010  79.112165\n",
      "1  198.825895  88.836430\n",
      "2  163.689099  71.970768\n",
      "3  194.533020  86.775849\n"
     ]
    }
   ],
   "source": [
    "df_B4 = pd.read_csv('classB.csv',header=None,skiprows=2)\n",
    "print(df_B4)"
   ]
  },
  {
   "cell_type": "code",
   "execution_count": null,
   "metadata": {},
   "outputs": [],
   "source": []
  }
 ],
 "metadata": {
  "kernelspec": {
   "display_name": "Python 3",
   "language": "python",
   "name": "python3"
  },
  "language_info": {
   "codemirror_mode": {
    "name": "ipython",
    "version": 3
   },
   "file_extension": ".py",
   "mimetype": "text/x-python",
   "name": "python",
   "nbconvert_exporter": "python",
   "pygments_lexer": "ipython3",
   "version": "3.6.9"
  }
 },
 "nbformat": 4,
 "nbformat_minor": 2
}
